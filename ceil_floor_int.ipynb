{
 "cells": [
  {
   "cell_type": "markdown",
   "id": "0ec058a6",
   "metadata": {},
   "source": [
    "# Applications of \"ceil\", \"floor\" and \"int\" functions in Python"
   ]
  },
  {
   "cell_type": "markdown",
   "id": "d487904d",
   "metadata": {},
   "source": [
    "In Python, the ceil, floor, and int functions are used for manipulating numbers, particularly floating-point numbers, in different ways. Here's an explanation of each function and its typical application scenarios:"
   ]
  },
  {
   "cell_type": "markdown",
   "id": "e2d7c39f",
   "metadata": {},
   "source": [
    "1. \"ceil\" function (math.ceil()):\n",
    "\n",
    "- Function: The ceil function (short for \"ceiling\") rounds a given number up to the nearest integer that is greater than or equal to the original number.\n",
    "- Application: This function is commonly used when you need to ensure that a value is rounded up to the nearest whole number, particularly in mathematical or financial calculations. For example, when calculating the number of items needed to cover a certain area or when dealing with pricing calculations where fractions of a unit are not allowed."
   ]
  },
  {
   "cell_type": "code",
   "execution_count": 22,
   "id": "11ad2a41",
   "metadata": {},
   "outputs": [
    {
     "name": "stdout",
     "output_type": "stream",
     "text": [
      "9\n"
     ]
    }
   ],
   "source": [
    "import math as mt\n",
    "\n",
    "x = 8.299\n",
    "\n",
    "y = mt.ceil(x)\n",
    "\n",
    "print(y)"
   ]
  },
  {
   "cell_type": "markdown",
   "id": "bc47d214",
   "metadata": {},
   "source": [
    "2. \"floor\" function (math.floor()):\n",
    "\n",
    "- Function: The floor function rounds a given number down to the nearest integer that is less than or equal to the original number.\n",
    "- Application: This function is useful when you want to ensure that a value is rounded down to the nearest whole number, often used in scenarios where fractions or decimal places need to be discarded."
   ]
  },
  {
   "cell_type": "code",
   "execution_count": 8,
   "id": "46485d84",
   "metadata": {},
   "outputs": [
    {
     "name": "stdout",
     "output_type": "stream",
     "text": [
      "9\n"
     ]
    }
   ],
   "source": [
    "m = 9.148\n",
    "\n",
    "n = mt.floor(m)\n",
    "\n",
    "print(n)"
   ]
  },
  {
   "cell_type": "markdown",
   "id": "5b5cc571",
   "metadata": {},
   "source": [
    "3. \"int\" function:\n",
    "\n",
    "- Function: The int function converts a number or a string containing a numeric value to an integer. It truncates any decimal places and returns the integer part of the number.\n",
    "- Application: This function is often used when you need to convert a floating-point number to an integer, especially when you want to discard the decimal part of a number."
   ]
  },
  {
   "cell_type": "code",
   "execution_count": 23,
   "id": "8727124e",
   "metadata": {},
   "outputs": [
    {
     "name": "stdout",
     "output_type": "stream",
     "text": [
      "3\n"
     ]
    }
   ],
   "source": [
    "m = 3.84\n",
    "\n",
    "n = mt.floor(m)\n",
    "\n",
    "print(n)"
   ]
  },
  {
   "cell_type": "code",
   "execution_count": 24,
   "id": "bb1cf0bf",
   "metadata": {},
   "outputs": [
    {
     "name": "stdout",
     "output_type": "stream",
     "text": [
      "2\n"
     ]
    }
   ],
   "source": [
    "i = '2'\n",
    "\n",
    "j = int(i)\n",
    "\n",
    "print(j)"
   ]
  },
  {
   "cell_type": "markdown",
   "id": "91e19228",
   "metadata": {},
   "source": [
    "Conclusion:\n",
    "    \n",
    "In summary, these functions are handy tools for handling and manipulating numeric values in Python. ceil and floor are primarily used for rounding floating-point numbers in different directions, while int is used for converting values to integers, discarding any decimal places. Their applications are diverse and can be found in various fields such as mathematics, engineering, finance, and data analysis."
   ]
  },
  {
   "cell_type": "markdown",
   "id": "3749cc77",
   "metadata": {},
   "source": [
    "##### PLEASE LIKE AND SUBSCRIBE TO DAMKS ANALYTICS CHANNEL!!!"
   ]
  },
  {
   "cell_type": "code",
   "execution_count": null,
   "id": "822f492c",
   "metadata": {},
   "outputs": [],
   "source": []
  }
 ],
 "metadata": {
  "kernelspec": {
   "display_name": "Python 3 (ipykernel)",
   "language": "python",
   "name": "python3"
  },
  "language_info": {
   "codemirror_mode": {
    "name": "ipython",
    "version": 3
   },
   "file_extension": ".py",
   "mimetype": "text/x-python",
   "name": "python",
   "nbconvert_exporter": "python",
   "pygments_lexer": "ipython3",
   "version": "3.9.16"
  }
 },
 "nbformat": 4,
 "nbformat_minor": 5
}
